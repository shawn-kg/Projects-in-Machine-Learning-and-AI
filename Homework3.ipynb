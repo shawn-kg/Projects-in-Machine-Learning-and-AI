{
  "nbformat": 4,
  "nbformat_minor": 0,
  "metadata": {
    "colab": {
      "name": "Homework3.ipynb",
      "provenance": [],
      "collapsed_sections": [],
      "mount_file_id": "1NvfLNS0aKNZ3oHTPjakqcE97pGqokey2",
      "authorship_tag": "ABX9TyN1SWG0C4g2wk1gh0JB1QtS",
      "include_colab_link": true
    },
    "kernelspec": {
      "name": "python3",
      "display_name": "Python 3"
    },
    "language_info": {
      "name": "python"
    }
  },
  "cells": [
    {
      "cell_type": "markdown",
      "metadata": {
        "id": "view-in-github",
        "colab_type": "text"
      },
      "source": [
        "<a href=\"https://colab.research.google.com/github/shawn-kg/Projects-in-Machine-Learning-and-AI/blob/main/Homework3.ipynb\" target=\"_parent\"><img src=\"https://colab.research.google.com/assets/colab-badge.svg\" alt=\"Open In Colab\"/></a>"
      ]
    },
    {
      "cell_type": "markdown",
      "metadata": {
        "id": "Elll2QKXyJ3b"
      },
      "source": [
        "# Homework 3: Deep Learning\n",
        "The link to the dataset can be found [here](https://archive.ics.uci.edu/ml/datasets/banknote+authentication). It describes a dataset that contains features that determine if a bank note was forged or not. "
      ]
    },
    {
      "cell_type": "markdown",
      "metadata": {
        "id": "p2sujPMXgdcf"
      },
      "source": [
        "# Task 1\n",
        "For this homework I used a tutorial I found at Machine Learning Mastery found [here](https://machinelearningmastery.com/tensorflow-tutorial-deep-learning-with-tf-keras/). It was very helpful in developing a machine learning model and fitting to data while also testing it. I also found out how to split my data into training, developing, and test data [here](https://datascience.stackexchange.com/questions/15135/train-test-validation-set-splitting-in-sklearn)."
      ]
    },
    {
      "cell_type": "markdown",
      "metadata": {
        "id": "DdzAiqwWjnqX"
      },
      "source": [
        "# Task 2"
      ]
    },
    {
      "cell_type": "code",
      "metadata": {
        "id": "_CFbNEUKZNk-",
        "colab": {
          "base_uri": "https://localhost:8080/"
        },
        "outputId": "40914b48-b0b9-4b8a-f443-52fefb26e19d"
      },
      "source": [
        "import pandas as pd\n",
        "import numpy as np\n",
        "import math\n",
        "from sklearn.model_selection import train_test_split # Import train_test_split function\n",
        "from sklearn import metrics #Import scikit-learn metrics module for accuracy calculation\n",
        " \n",
        "# Make numpy values easier to read.\n",
        "np.set_printoptions(precision=3, suppress=True)\n",
        "\n",
        "import tensorflow as tf\n",
        "from tensorflow.keras import layers\n",
        "from tensorflow.keras.layers import Dense\n",
        "from tensorflow.keras import Sequential\n",
        "\n",
        "#read in data\n",
        "\n",
        "col_names = ['Image Variance', 'Image Skewness', 'Image Curtosis', 'Image Entropy', 'target']\n",
        "data = pd.read_csv('drive/MyDrive/data_banknote_authentication.csv', header = None, names = col_names)\n",
        "\n",
        "feature_cols = ['Image Variance', 'Image Skewness', 'Image Curtosis', 'Image Entropy']\n",
        "\n",
        "X = data[feature_cols]\n",
        "y = data.target\n",
        "\n",
        "X_train, X_test, y_train, y_test = train_test_split(X, y, test_size=0.3, random_state=1) # 70% training and 30% test\n",
        "X_train, X_dev, y_train, y_dev = train_test_split(X_train,y_train, test_size = 0.25, random_state=1)\n",
        "print(X_train.shape,X_test.shape,y_train.shape,y_test.shape)\n",
        "n_features = X_train.shape[1]\n",
        "#print(n_features)\n",
        "\n",
        "#create the model\n",
        "model = Sequential()\n",
        "model.add(Dense(5, activation = 'relu', kernel_initializer='he_normal', input_shape=(n_features,)))\n",
        "model.add(Dense(1, activation = 'sigmoid'))\n",
        "opt = tf.keras.optimizers.RMSprop(learning_rate=0.01, momentum=0.9)\n",
        "model.compile(optimizer = opt, loss = 'binary_crossentropy', metrics = ['accuracy'])\n",
        "# fitting the model\n",
        "model.fit(X_train, y_train, epochs=150, batch_size=32, verbose=0)\n",
        "#evaluate\n",
        "loss,acc = model.evaluate(X_dev,y_dev,verbose=0)\n",
        "print(\"Loss: \", loss, \"Acc: \", acc)\n",
        "\n",
        "test_loss, test_acc = model.evaluate(X_test,y_test,verbose=0)\n",
        "print(\"Test Loss: \", test_loss, \"Test Accuracy: \", test_acc)"
      ],
      "execution_count": 1,
      "outputs": [
        {
          "output_type": "stream",
          "name": "stdout",
          "text": [
            "(720, 4) (412, 4) (720,) (412,)\n",
            "Loss:  0.021618789061903954 Acc:  0.9916666746139526\n",
            "Test Loss:  0.05632222443819046 Test Accuracy:  0.9927184581756592\n"
          ]
        }
      ]
    },
    {
      "cell_type": "markdown",
      "metadata": {
        "id": "DTK5tmkfjMuC"
      },
      "source": [
        "For my activation function I decided to use reLu for the input and hidden layer while using sigmoid for the output layer for classification. I used binary_crossentropy for the loss function since it is good when doing binary classification. "
      ]
    },
    {
      "cell_type": "markdown",
      "metadata": {
        "id": "3kLDG2uNjrnT"
      },
      "source": [
        "# Task 3"
      ]
    },
    {
      "cell_type": "markdown",
      "metadata": {
        "id": "zF7KAbgQjuMh"
      },
      "source": [
        "For this project I decided first to have my gradient descent to be optimized with RMSprop because I already set the learning rate to 0.01 and the momentum to 0.9. With those numbers it was already going to be a gradual descent to minimize the loss and I feel RMSprop can only help with that. I chose 32 for the batch size as well since I thought a small one would help with a gradual gradient descent. For an activation function I used relu within the hidden layers to prevent against a vanishing gradient since I did run the network for above 150 epochs. I did not use regularization for this however because I feel that there were few enough features to cause overfitting and the model did really well on all training, dev, and test sets. Since this data set only had 4 features I thought that I could go with a plain train, dev, test strategy to get good numbers and it did come out well as both errors were within decimal places of each other. "
      ]
    }
  ]
}